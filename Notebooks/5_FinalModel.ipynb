{
 "cells": [
  {
   "cell_type": "markdown",
   "id": "e5e786de",
   "metadata": {},
   "source": [
    "# Import"
   ]
  },
  {
   "cell_type": "code",
   "execution_count": 1,
   "id": "caa7d020",
   "metadata": {
    "ExecuteTime": {
     "end_time": "2022-06-29T15:13:28.943919Z",
     "start_time": "2022-06-29T15:13:26.272130Z"
    }
   },
   "outputs": [],
   "source": [
    "import pandas as pd\n",
    "import numpy as np\n",
    "import seaborn as sns\n",
    "import matplotlib.pyplot as plt\n",
    "import os\n",
    "import gc\n",
    "import time\n",
    "import warnings\n",
    "warnings.simplefilter(action='ignore', category=FutureWarning)\n",
    "warnings.filterwarnings(\"ignore\")\n",
    "from contextlib import contextmanager\n",
    "from sklearn.metrics import roc_auc_score, roc_curve\n",
    "from sklearn.model_selection import KFold, StratifiedKFold\n",
    "from numpy import mean\n",
    "from sklearn.impute import SimpleImputer\n",
    "from sklearn.model_selection import RepeatedStratifiedKFold, cross_val_score, cross_validate\n",
    "from lightgbm import LGBMClassifier\n",
    "from collections import Counter\n",
    "import joblib"
   ]
  },
  {
   "cell_type": "code",
   "execution_count": 2,
   "id": "787c0178",
   "metadata": {
    "ExecuteTime": {
     "end_time": "2022-06-29T15:13:29.162702Z",
     "start_time": "2022-06-29T15:13:28.943919Z"
    }
   },
   "outputs": [],
   "source": [
    "# chargement des données rééquilibrées\n",
    "root = r\"C:\\Users\\vassalr\\OneDrive - STMicroelectronics\\Documents\\Robin\\DataScience\\Projets\\7_ImplémentezUnModèleDeScoring\\afterBalancingData\"\n",
    "name = \"X_balanced.pickle\"\n",
    "X_train = pd.read_pickle(os.path.join(root, name))\n",
    "name = \"y_balanced.pickle\"\n",
    "y_train = pd.read_pickle(os.path.join(root, name))\n",
    "name = \"X_test.pickle\"\n",
    "X_test = pd.read_pickle(os.path.join(root, name))\n",
    "name = \"y_test.pickle\"\n",
    "y_test = pd.read_pickle(os.path.join(root, name))"
   ]
  },
  {
   "cell_type": "code",
   "execution_count": 3,
   "id": "ce376a0d",
   "metadata": {
    "ExecuteTime": {
     "end_time": "2022-06-29T15:13:29.177666Z",
     "start_time": "2022-06-29T15:13:29.166694Z"
    }
   },
   "outputs": [
    {
     "name": "stdout",
     "output_type": "stream",
     "text": [
      "(201163, 122)\n",
      "(201163,)\n",
      "(76877, 122)\n",
      "(76877,)\n"
     ]
    }
   ],
   "source": [
    "print(X_train.shape)\n",
    "print(y_train.shape)\n",
    "print(X_test.shape)\n",
    "print(y_test.shape)"
   ]
  },
  {
   "cell_type": "code",
   "execution_count": 4,
   "id": "61d46970",
   "metadata": {
    "ExecuteTime": {
     "end_time": "2022-06-29T15:13:29.300502Z",
     "start_time": "2022-06-29T15:13:29.179036Z"
    }
   },
   "outputs": [],
   "source": [
    "X_train = X_train.sample(frac=0.45, replace=False, random_state=5)\n",
    "y_train = y_train.sample(frac=0.45, replace=False, random_state=5)"
   ]
  },
  {
   "cell_type": "markdown",
   "id": "88a85a12",
   "metadata": {},
   "source": [
    "# XGBoost"
   ]
  },
  {
   "cell_type": "code",
   "execution_count": 5,
   "id": "f3d4fd6b",
   "metadata": {
    "ExecuteTime": {
     "end_time": "2022-06-29T15:13:46.227775Z",
     "start_time": "2022-06-29T15:13:29.301529Z"
    }
   },
   "outputs": [
    {
     "data": {
      "image/png": "[encoded data removed]",
      "text/plain": [
       "<Figure size 432x288 with 1 Axes>"
      ]
     },
     "metadata": {
      "needs_background": "light"
     },
     "output_type": "display_data"
    }
   ],
   "source": [
    "from xgboost import XGBClassifier\n",
    "\n",
    "modelXGB = XGBClassifier(verbosity=0)\n",
    "params_go = {'colsample_bytree':1, 'eta':0.05, \"eval_metric\":\"auc\", \"gamma\":0, \"max_depth\":5, 'min_child_weight':1, \n",
    "             \"n_estimators\":150, \"objective\":\"binary:logistic\",\"silent\":1, \"subsample\":0.75}\n",
    "modelXGB.set_params(**params_go)\n",
    "modelXGB.fit(X_train, y_train, eval_set=[(X_train, y_train),(X_test, y_test)], eval_metric=\"auc\", verbose=False)\n",
    "results = modelXGB.evals_result()\n",
    "epochs = len(results['validation_0']['auc'])\n",
    "x_axis = range(0, epochs)\n",
    "\n",
    "fig, ax = plt.subplots()\n",
    "ax.plot(x_axis, results['validation_0']['auc'], label='Train')\n",
    "ax.plot(x_axis, results['validation_1']['auc'], label='Test')\n",
    "ax.legend()\n",
    "plt.ylabel('AUC')\n",
    "plt.title('XGBoost AUC')\n",
    "plt.show()"
   ]
  },
  {
   "cell_type": "code",
   "execution_count": 6,
   "id": "9074a67d",
   "metadata": {
    "ExecuteTime": {
     "end_time": "2022-06-17T16:46:05.157184Z",
     "start_time": "2022-06-17T16:46:05.104109Z"
    }
   },
   "outputs": [
    {
     "data": {
      "text/plain": [
       "['C:\\\\Users\\\\vassalr\\\\OneDrive - STMicroelectronics\\\\Documents\\\\Robin\\\\DataScience\\\\Projets\\\\7_ImplémentezUnModèleDeScoring\\\\model\\\\xgbClassifier_go.sav']"
      ]
     },
     "execution_count": 6,
     "metadata": {},
     "output_type": "execute_result"
    }
   ],
   "source": [
    "# save the model to disk\n",
    "root = r\"C:\\Users\\vassalr\\OneDrive - STMicroelectronics\\Documents\\Robin\\DataScience\\Projets\\7_ImplémentezUnModèleDeScoring\\model\"\n",
    "filename = 'xgbClassifier_go.sav'\n",
    "joblib.dump(modelXGB, os.path.join(root, filename))"
   ]
  },
  {
   "cell_type": "markdown",
   "id": "aeed0938",
   "metadata": {},
   "source": [
    "# Globale with feature_importances"
   ]
  },
  {
   "cell_type": "code",
   "execution_count": 7,
   "id": "80896eda",
   "metadata": {
    "ExecuteTime": {
     "end_time": "2022-06-17T16:46:05.172788Z",
     "start_time": "2022-06-17T16:46:05.158128Z"
    }
   },
   "outputs": [
    {
     "data": {
      "text/plain": [
       "array([0.00159706, 0.0104362 , 0.01459042, 0.00773555, 0.02555056,\n",
       "       0.02728152, 0.00313098, 0.0006788 , 0.0051347 , 0.00324318,\n",
       "       0.00150396, 0.01885793, 0.00176345, 0.01090711, 0.01251799,\n",
       "       0.00310266, 0.00975553, 0.00229117, 0.00256141, 0.01508702,\n",
       "       0.00356421, 0.00153582, 0.00222908, 0.00202373, 0.00227573,\n",
       "       0.00367946, 0.00226541, 0.0434016 , 0.00319437, 0.00212356,\n",
       "       0.00564735, 0.00164793, 0.00392196, 0.00145979, 0.00308582,\n",
       "       0.00608784, 0.00210723, 0.00282652, 0.00140213, 0.04697358,\n",
       "       0.07167301, 0.01288998, 0.00201807, 0.0018299 , 0.00413714,\n",
       "       0.00209641, 0.        , 0.00109662, 0.00564857, 0.00159896,\n",
       "       0.00513583, 0.00271875, 0.00502865, 0.00070909, 0.004993  ,\n",
       "       0.00204936, 0.00540051, 0.00068192, 0.00116673, 0.00480514,\n",
       "       0.        , 0.03530908, 0.0860508 , 0.07200053, 0.02790353,\n",
       "       0.00130688, 0.00172324, 0.00286794, 0.01023267, 0.00145256,\n",
       "       0.00084381, 0.00110424, 0.00200539, 0.01021454, 0.00096502,\n",
       "       0.0018943 , 0.03638997, 0.00552023, 0.0025224 , 0.06030643,\n",
       "       0.08582336, 0.00157928, 0.00290421, 0.00377832, 0.00081039,\n",
       "       0.00105122, 0.00125961, 0.00071202, 0.00136093, 0.00169374,\n",
       "       0.00092007, 0.00121265, 0.00902004, 0.00156367, 0.00095185,\n",
       "       0.00387749, 0.00273161, 0.00126725, 0.00187956, 0.00110125,\n",
       "       0.00112415, 0.00171788, 0.00071821, 0.00074877, 0.01053996,\n",
       "       0.00174459, 0.00117392, 0.00997557, 0.00145049, 0.00372268,\n",
       "       0.00135646, 0.00131753, 0.00210762, 0.00130119, 0.00187002,\n",
       "       0.00122796, 0.00190256, 0.00202529, 0.00119023, 0.00253475,\n",
       "       0.00273629, 0.00654384], dtype=float32)"
      ]
     },
     "execution_count": 7,
     "metadata": {},
     "output_type": "execute_result"
    }
   ],
   "source": [
    "modelXGB.feature_importances_"
   ]
  },
  {
   "cell_type": "code",
   "execution_count": 8,
   "id": "8abbc841",
   "metadata": {
    "ExecuteTime": {
     "end_time": "2022-06-17T16:46:05.537230Z",
     "start_time": "2022-06-17T16:46:05.173726Z"
    }
   },
   "outputs": [
    {
     "data": {
      "image/png": "[encoded data removed]",
      "text/plain": [
       "<Figure size 1440x720 with 1 Axes>"
      ]
     },
     "metadata": {
      "needs_background": "light"
     },
     "output_type": "display_data"
    }
   ],
   "source": [
    "# a normaliser ou pas \n",
    "feature_imp = pd.DataFrame(sorted(zip(modelXGB.feature_importances_, X_train.columns)), columns=['Value','Feature'])\n",
    "plt.figure(figsize=(20, 10))\n",
    "sns.barplot(x=\"Value\", y=\"Feature\", data=feature_imp.sort_values(by=\"Value\", ascending=False)[:20])\n",
    "plt.title('XGBClassifier Features importances (avg over folds)', fontsize=20)\n",
    "plt.tight_layout()\n",
    "plt.show()"
   ]
  },
  {
   "cell_type": "code",
   "execution_count": 9,
   "id": "878a5d49",
   "metadata": {
    "ExecuteTime": {
     "end_time": "2022-06-17T16:46:05.553002Z",
     "start_time": "2022-06-17T16:46:05.539212Z"
    }
   },
   "outputs": [
    {
     "data": {
      "text/plain": [
       "['NAME_INCOME_TYPE_Working',\n",
       " 'EMERGENCYSTATE_MODE_No',\n",
       " 'NAME_EDUCATION_TYPE_Secondary / secondary special',\n",
       " 'REG_CITY_NOT_WORK_CITY',\n",
       " 'FLAG_DOCUMENT_3',\n",
       " 'WALLSMATERIAL_MODE_Panel',\n",
       " 'CODE_GENDER',\n",
       " 'HOUSETYPE_MODE_block of flats',\n",
       " 'OCCUPATION_TYPE_Laborers',\n",
       " 'NAME_EDUCATION_TYPE_Higher education',\n",
       " 'REGION_RATING_CLIENT',\n",
       " 'REGION_RATING_CLIENT_W_CITY',\n",
       " 'PREV_NAME_YIELD_GROUP_high_MEAN',\n",
       " 'PREV_DAYS_DECISION_MIN',\n",
       " 'EXT_SOURCE_2',\n",
       " 'REG_CITY_NOT_LIVE_CITY',\n",
       " 'PREV_NAME_PRODUCT_TYPE_walk-in_MEAN',\n",
       " 'PREV_NAME_SELLER_INDUSTRY_Connectivity_MEAN',\n",
       " 'APPROVED_HOUR_APPR_PROCESS_START_MAX',\n",
       " 'EXT_SOURCE_3']"
      ]
     },
     "execution_count": 9,
     "metadata": {},
     "output_type": "execute_result"
    }
   ],
   "source": [
    "list(feature_imp.sort_values(by=\"Value\", ascending=False)[:20][\"Feature\"])"
   ]
  },
  {
   "cell_type": "markdown",
   "id": "e21556c2",
   "metadata": {},
   "source": [
    "# Locale with lime_tabular"
   ]
  },
  {
   "cell_type": "code",
   "execution_count": 10,
   "id": "7548022e",
   "metadata": {
    "ExecuteTime": {
     "end_time": "2022-06-17T16:46:05.568437Z",
     "start_time": "2022-06-17T16:46:05.553999Z"
    }
   },
   "outputs": [
    {
     "data": {
      "text/plain": [
       "XGBClassifier(base_score=0.5, booster='gbtree', colsample_bylevel=1,\n",
       "              colsample_bynode=1, colsample_bytree=1, enable_categorical=False,\n",
       "              eta=0.05, eval_metric='auc', gamma=0, gpu_id=-1,\n",
       "              importance_type=None, interaction_constraints='',\n",
       "              learning_rate=0.0500000007, max_delta_step=0, max_depth=5,\n",
       "              min_child_weight=1, missing=nan, monotone_constraints='()',\n",
       "              n_estimators=150, n_jobs=16, num_parallel_tree=1,\n",
       "              predictor='auto', random_state=0, reg_alpha=0, reg_lambda=1,\n",
       "              scale_pos_weight=1, silent=1, subsample=0.75, tree_method='exact',\n",
       "              validate_parameters=1, ...)"
      ]
     },
     "execution_count": 10,
     "metadata": {},
     "output_type": "execute_result"
    }
   ],
   "source": [
    "modelXGB"
   ]
  },
  {
   "cell_type": "code",
   "execution_count": 11,
   "id": "5a89dae7",
   "metadata": {
    "ExecuteTime": {
     "end_time": "2022-06-17T16:46:08.252380Z",
     "start_time": "2022-06-17T16:46:05.569449Z"
    }
   },
   "outputs": [
    {
     "data": {
      "text/plain": [
       "<lime.lime_tabular.LimeTabularExplainer at 0x1cdc5bd33d0>"
      ]
     },
     "execution_count": 11,
     "metadata": {},
     "output_type": "execute_result"
    }
   ],
   "source": [
    "from lime import lime_tabular\n",
    "explainer = lime_tabular.LimeTabularExplainer(X_test.values, mode=\"classification\", feature_names= X_test.columns,\n",
    "                                             class_names=[\"solvable\", \"non_solvable\"], discretize_continuous=True)\n",
    "explainer"
   ]
  },
  {
   "cell_type": "code",
   "execution_count": 12,
   "id": "ae3a8f9f",
   "metadata": {
    "ExecuteTime": {
     "end_time": "2022-06-17T16:46:08.267925Z",
     "start_time": "2022-06-17T16:46:08.253307Z"
    }
   },
   "outputs": [
    {
     "name": "stdout",
     "output_type": "stream",
     "text": [
      "[[0.7037374  0.29626265]]\n",
      "(76877, 122)\n"
     ]
    }
   ],
   "source": [
    "print(modelXGB.predict_proba(X_test.iloc[[0]]))\n",
    "print(X_test.shape)"
   ]
  },
  {
   "cell_type": "code",
   "execution_count": 13,
   "id": "74bda369",
   "metadata": {
    "ExecuteTime": {
     "end_time": "2022-06-17T16:46:09.459275Z",
     "start_time": "2022-06-17T16:46:08.268421Z"
    }
   },
   "outputs": [],
   "source": [
    "# Convert X_test float64 into float 32\n",
    "X_test[X_test.select_dtypes(np.float64).columns] = X_test.select_dtypes(np.float64).astype(np.float32)"
   ]
  },
  {
   "cell_type": "code",
   "execution_count": 14,
   "id": "1f816673",
   "metadata": {
    "ExecuteTime": {
     "end_time": "2022-06-17T16:46:09.505490Z",
     "start_time": "2022-06-17T16:46:09.461286Z"
    }
   },
   "outputs": [],
   "source": [
    "file = r\"C:\\Users\\vassalr\\OneDrive - STMicroelectronics\\Documents\\Robin\\DataScience\\Projets\\7_ImplémentezUnModèleDeScoring\\X_test_32.pickle\"\n",
    "X_test.to_pickle(file)"
   ]
  },
  {
   "cell_type": "code",
   "execution_count": 15,
   "id": "790395f1",
   "metadata": {
    "ExecuteTime": {
     "end_time": "2022-06-17T16:46:09.520643Z",
     "start_time": "2022-06-17T16:46:09.506482Z"
    }
   },
   "outputs": [
    {
     "data": {
      "text/plain": [
       "76877"
      ]
     },
     "execution_count": 15,
     "metadata": {},
     "output_type": "execute_result"
    }
   ],
   "source": [
    "len(X_test)"
   ]
  },
  {
   "cell_type": "code",
   "execution_count": 16,
   "id": "28d4ed54",
   "metadata": {
    "ExecuteTime": {
     "end_time": "2022-06-18T19:20:51.719607Z",
     "start_time": "2022-06-17T16:46:09.521640Z"
    }
   },
   "outputs": [
    {
     "name": "stdout",
     "output_type": "stream",
     "text": [
      "100\n",
      "200\n",
      "300\n",
      "400\n",
      "500\n",
      "600\n",
      "700\n",
      "800\n",
      "900\n",
      "1000\n",
      "1100\n",
      "1200\n",
      "1300\n",
      "1400\n",
      "1500\n",
      "1600\n",
      "1700\n",
      "1800\n",
      "1900\n",
      "2000\n",
      "2100\n",
      "2200\n",
      "2300\n",
      "2400\n",
      "2500\n",
      "2600\n",
      "2700\n",
      "2800\n",
      "2900\n",
      "3000\n",
      "3100\n",
      "3200\n",
      "3300\n",
      "3400\n"
     ]
    },
    {
     "ename": "KeyboardInterrupt",
     "evalue": "",
     "output_type": "error",
     "traceback": [
      "\u001b[1;31m---------------------------------------------------------------------------\u001b[0m",
      "\u001b[1;31mKeyboardInterrupt\u001b[0m                         Traceback (most recent call last)",
      "\u001b[1;32m<ipython-input-16-400b446b54c1>\u001b[0m in \u001b[0;36m<module>\u001b[1;34m\u001b[0m\n\u001b[0;32m      2\u001b[0m \u001b[0mcount\u001b[0m \u001b[1;33m=\u001b[0m \u001b[1;36m0\u001b[0m\u001b[1;33m\u001b[0m\u001b[1;33m\u001b[0m\u001b[0m\n\u001b[0;32m      3\u001b[0m \u001b[1;32mfor\u001b[0m \u001b[0mcustomer\u001b[0m \u001b[1;32min\u001b[0m \u001b[0mrange\u001b[0m\u001b[1;33m(\u001b[0m\u001b[0mlen\u001b[0m\u001b[1;33m(\u001b[0m\u001b[0mX_test\u001b[0m\u001b[1;33m)\u001b[0m\u001b[1;33m)\u001b[0m\u001b[1;33m:\u001b[0m\u001b[1;33m\u001b[0m\u001b[1;33m\u001b[0m\u001b[0m\n\u001b[1;32m----> 4\u001b[1;33m     \u001b[0mexplainer_customer\u001b[0m \u001b[1;33m=\u001b[0m \u001b[0mexplainer\u001b[0m\u001b[1;33m.\u001b[0m\u001b[0mexplain_instance\u001b[0m\u001b[1;33m(\u001b[0m\u001b[0mX_test\u001b[0m\u001b[1;33m.\u001b[0m\u001b[0mvalues\u001b[0m\u001b[1;33m[\u001b[0m\u001b[0mcustomer\u001b[0m\u001b[1;33m]\u001b[0m\u001b[1;33m,\u001b[0m \u001b[0mmodelXGB\u001b[0m\u001b[1;33m.\u001b[0m\u001b[0mpredict_proba\u001b[0m\u001b[1;33m)\u001b[0m\u001b[1;33m\u001b[0m\u001b[1;33m\u001b[0m\u001b[0m\n\u001b[0m\u001b[0;32m      5\u001b[0m     \u001b[0minterpretability_list\u001b[0m\u001b[1;33m.\u001b[0m\u001b[0mappend\u001b[0m\u001b[1;33m(\u001b[0m\u001b[0mexplainer_customer\u001b[0m\u001b[1;33m)\u001b[0m\u001b[1;33m\u001b[0m\u001b[1;33m\u001b[0m\u001b[0m\n\u001b[0;32m      6\u001b[0m     \u001b[0mcount\u001b[0m\u001b[1;33m+=\u001b[0m\u001b[1;36m1\u001b[0m\u001b[1;33m\u001b[0m\u001b[1;33m\u001b[0m\u001b[0m\n",
      "\u001b[1;32m~\\Anaconda3\\envs\\my_tensorflow_env\\lib\\site-packages\\lime\\lime_tabular.py\u001b[0m in \u001b[0;36mexplain_instance\u001b[1;34m(self, data_row, predict_fn, labels, top_labels, num_features, num_samples, distance_metric, model_regressor)\u001b[0m\n\u001b[0;32m    338\u001b[0m             \u001b[1;31m# Preventative code: if sparse, convert to csr format if not in csr format already\u001b[0m\u001b[1;33m\u001b[0m\u001b[1;33m\u001b[0m\u001b[1;33m\u001b[0m\u001b[0m\n\u001b[0;32m    339\u001b[0m             \u001b[0mdata_row\u001b[0m \u001b[1;33m=\u001b[0m \u001b[0mdata_row\u001b[0m\u001b[1;33m.\u001b[0m\u001b[0mtocsr\u001b[0m\u001b[1;33m(\u001b[0m\u001b[1;33m)\u001b[0m\u001b[1;33m\u001b[0m\u001b[1;33m\u001b[0m\u001b[0m\n\u001b[1;32m--> 340\u001b[1;33m         \u001b[0mdata\u001b[0m\u001b[1;33m,\u001b[0m \u001b[0minverse\u001b[0m \u001b[1;33m=\u001b[0m \u001b[0mself\u001b[0m\u001b[1;33m.\u001b[0m\u001b[0m__data_inverse\u001b[0m\u001b[1;33m(\u001b[0m\u001b[0mdata_row\u001b[0m\u001b[1;33m,\u001b[0m \u001b[0mnum_samples\u001b[0m\u001b[1;33m)\u001b[0m\u001b[1;33m\u001b[0m\u001b[1;33m\u001b[0m\u001b[0m\n\u001b[0m\u001b[0;32m    341\u001b[0m         \u001b[1;32mif\u001b[0m \u001b[0msp\u001b[0m\u001b[1;33m.\u001b[0m\u001b[0msparse\u001b[0m\u001b[1;33m.\u001b[0m\u001b[0missparse\u001b[0m\u001b[1;33m(\u001b[0m\u001b[0mdata\u001b[0m\u001b[1;33m)\u001b[0m\u001b[1;33m:\u001b[0m\u001b[1;33m\u001b[0m\u001b[1;33m\u001b[0m\u001b[0m\n\u001b[0;32m    342\u001b[0m             \u001b[1;31m# Note in sparse case we don't subtract mean since data would become dense\u001b[0m\u001b[1;33m\u001b[0m\u001b[1;33m\u001b[0m\u001b[1;33m\u001b[0m\u001b[0m\n",
      "\u001b[1;32m~\\Anaconda3\\envs\\my_tensorflow_env\\lib\\site-packages\\lime\\lime_tabular.py\u001b[0m in \u001b[0;36m__data_inverse\u001b[1;34m(self, data_row, num_samples)\u001b[0m\n\u001b[0;32m    548\u001b[0m             \u001b[0minverse\u001b[0m\u001b[1;33m[\u001b[0m\u001b[1;33m:\u001b[0m\u001b[1;33m,\u001b[0m \u001b[0mcolumn\u001b[0m\u001b[1;33m]\u001b[0m \u001b[1;33m=\u001b[0m \u001b[0minverse_column\u001b[0m\u001b[1;33m\u001b[0m\u001b[1;33m\u001b[0m\u001b[0m\n\u001b[0;32m    549\u001b[0m         \u001b[1;32mif\u001b[0m \u001b[0mself\u001b[0m\u001b[1;33m.\u001b[0m\u001b[0mdiscretizer\u001b[0m \u001b[1;32mis\u001b[0m \u001b[1;32mnot\u001b[0m \u001b[1;32mNone\u001b[0m\u001b[1;33m:\u001b[0m\u001b[1;33m\u001b[0m\u001b[1;33m\u001b[0m\u001b[0m\n\u001b[1;32m--> 550\u001b[1;33m             \u001b[0minverse\u001b[0m\u001b[1;33m[\u001b[0m\u001b[1;36m1\u001b[0m\u001b[1;33m:\u001b[0m\u001b[1;33m]\u001b[0m \u001b[1;33m=\u001b[0m \u001b[0mself\u001b[0m\u001b[1;33m.\u001b[0m\u001b[0mdiscretizer\u001b[0m\u001b[1;33m.\u001b[0m\u001b[0mundiscretize\u001b[0m\u001b[1;33m(\u001b[0m\u001b[0minverse\u001b[0m\u001b[1;33m[\u001b[0m\u001b[1;36m1\u001b[0m\u001b[1;33m:\u001b[0m\u001b[1;33m]\u001b[0m\u001b[1;33m)\u001b[0m\u001b[1;33m\u001b[0m\u001b[1;33m\u001b[0m\u001b[0m\n\u001b[0m\u001b[0;32m    551\u001b[0m         \u001b[0minverse\u001b[0m\u001b[1;33m[\u001b[0m\u001b[1;36m0\u001b[0m\u001b[1;33m]\u001b[0m \u001b[1;33m=\u001b[0m \u001b[0mdata_row\u001b[0m\u001b[1;33m\u001b[0m\u001b[1;33m\u001b[0m\u001b[0m\n\u001b[0;32m    552\u001b[0m         \u001b[1;32mreturn\u001b[0m \u001b[0mdata\u001b[0m\u001b[1;33m,\u001b[0m \u001b[0minverse\u001b[0m\u001b[1;33m\u001b[0m\u001b[1;33m\u001b[0m\u001b[0m\n",
      "\u001b[1;32m~\\Anaconda3\\envs\\my_tensorflow_env\\lib\\site-packages\\lime\\discretize.py\u001b[0m in \u001b[0;36mundiscretize\u001b[1;34m(self, data)\u001b[0m\n\u001b[0;32m    142\u001b[0m                 )\n\u001b[0;32m    143\u001b[0m             \u001b[1;32melse\u001b[0m\u001b[1;33m:\u001b[0m\u001b[1;33m\u001b[0m\u001b[1;33m\u001b[0m\u001b[0m\n\u001b[1;32m--> 144\u001b[1;33m                 ret[:, feature] = self.get_undiscretize_values(\n\u001b[0m\u001b[0;32m    145\u001b[0m                     \u001b[0mfeature\u001b[0m\u001b[1;33m,\u001b[0m \u001b[0mret\u001b[0m\u001b[1;33m[\u001b[0m\u001b[1;33m:\u001b[0m\u001b[1;33m,\u001b[0m \u001b[0mfeature\u001b[0m\u001b[1;33m]\u001b[0m\u001b[1;33m.\u001b[0m\u001b[0mastype\u001b[0m\u001b[1;33m(\u001b[0m\u001b[0mint\u001b[0m\u001b[1;33m)\u001b[0m\u001b[1;33m\u001b[0m\u001b[1;33m\u001b[0m\u001b[0m\n\u001b[0;32m    146\u001b[0m                 )\n",
      "\u001b[1;32m~\\Anaconda3\\envs\\my_tensorflow_env\\lib\\site-packages\\lime\\discretize.py\u001b[0m in \u001b[0;36mget_undiscretize_values\u001b[1;34m(self, feature, values)\u001b[0m\n\u001b[0;32m    125\u001b[0m \u001b[1;33m\u001b[0m\u001b[0m\n\u001b[0;32m    126\u001b[0m         \u001b[0mret\u001b[0m \u001b[1;33m=\u001b[0m \u001b[0mminz\u001b[0m\u001b[1;33m\u001b[0m\u001b[1;33m\u001b[0m\u001b[0m\n\u001b[1;32m--> 127\u001b[1;33m         ret[np.where(min_max_unequal)] = scipy.stats.truncnorm.rvs(\n\u001b[0m\u001b[0;32m    128\u001b[0m             \u001b[0mminz\u001b[0m\u001b[1;33m[\u001b[0m\u001b[0mmin_max_unequal\u001b[0m\u001b[1;33m]\u001b[0m\u001b[1;33m,\u001b[0m\u001b[1;33m\u001b[0m\u001b[1;33m\u001b[0m\u001b[0m\n\u001b[0;32m    129\u001b[0m             \u001b[0mmaxz\u001b[0m\u001b[1;33m[\u001b[0m\u001b[0mmin_max_unequal\u001b[0m\u001b[1;33m]\u001b[0m\u001b[1;33m,\u001b[0m\u001b[1;33m\u001b[0m\u001b[1;33m\u001b[0m\u001b[0m\n",
      "\u001b[1;32m~\\Anaconda3\\envs\\my_tensorflow_env\\lib\\site-packages\\scipy\\stats\\_distn_infrastructure.py\u001b[0m in \u001b[0;36mrvs\u001b[1;34m(self, *args, **kwds)\u001b[0m\n\u001b[0;32m   1058\u001b[0m             \u001b[0mvals\u001b[0m \u001b[1;33m=\u001b[0m \u001b[0mself\u001b[0m\u001b[1;33m.\u001b[0m\u001b[0m_rvs\u001b[0m\u001b[1;33m(\u001b[0m\u001b[1;33m*\u001b[0m\u001b[0margs\u001b[0m\u001b[1;33m)\u001b[0m\u001b[1;33m\u001b[0m\u001b[1;33m\u001b[0m\u001b[0m\n\u001b[0;32m   1059\u001b[0m         \u001b[1;32melse\u001b[0m\u001b[1;33m:\u001b[0m\u001b[1;33m\u001b[0m\u001b[1;33m\u001b[0m\u001b[0m\n\u001b[1;32m-> 1060\u001b[1;33m             \u001b[0mvals\u001b[0m \u001b[1;33m=\u001b[0m \u001b[0mself\u001b[0m\u001b[1;33m.\u001b[0m\u001b[0m_rvs\u001b[0m\u001b[1;33m(\u001b[0m\u001b[1;33m*\u001b[0m\u001b[0margs\u001b[0m\u001b[1;33m,\u001b[0m \u001b[0msize\u001b[0m\u001b[1;33m=\u001b[0m\u001b[0msize\u001b[0m\u001b[1;33m,\u001b[0m \u001b[0mrandom_state\u001b[0m\u001b[1;33m=\u001b[0m\u001b[0mrandom_state\u001b[0m\u001b[1;33m)\u001b[0m\u001b[1;33m\u001b[0m\u001b[1;33m\u001b[0m\u001b[0m\n\u001b[0m\u001b[0;32m   1061\u001b[0m \u001b[1;33m\u001b[0m\u001b[0m\n\u001b[0;32m   1062\u001b[0m         \u001b[0mvals\u001b[0m \u001b[1;33m=\u001b[0m \u001b[0mvals\u001b[0m \u001b[1;33m*\u001b[0m \u001b[0mscale\u001b[0m \u001b[1;33m+\u001b[0m \u001b[0mloc\u001b[0m\u001b[1;33m\u001b[0m\u001b[1;33m\u001b[0m\u001b[0m\n",
      "\u001b[1;32m~\\Anaconda3\\envs\\my_tensorflow_env\\lib\\site-packages\\scipy\\stats\\_continuous_distns.py\u001b[0m in \u001b[0;36m_rvs\u001b[1;34m(self, a, b, size, random_state)\u001b[0m\n\u001b[0;32m   7846\u001b[0m                 idx = tuple((it.multi_index[j] if not bc[j] else slice(None))\n\u001b[0;32m   7847\u001b[0m                             for j in range(-len(size), 0))\n\u001b[1;32m-> 7848\u001b[1;33m                 \u001b[0mout\u001b[0m\u001b[1;33m[\u001b[0m\u001b[0midx\u001b[0m\u001b[1;33m]\u001b[0m \u001b[1;33m=\u001b[0m \u001b[0mself\u001b[0m\u001b[1;33m.\u001b[0m\u001b[0m_rvs_scalar\u001b[0m\u001b[1;33m(\u001b[0m\u001b[0mit\u001b[0m\u001b[1;33m[\u001b[0m\u001b[1;36m0\u001b[0m\u001b[1;33m]\u001b[0m\u001b[1;33m,\u001b[0m \u001b[0mit\u001b[0m\u001b[1;33m[\u001b[0m\u001b[1;36m1\u001b[0m\u001b[1;33m]\u001b[0m\u001b[1;33m,\u001b[0m \u001b[0mnumsamples\u001b[0m\u001b[1;33m,\u001b[0m \u001b[0mrandom_state\u001b[0m\u001b[1;33m)\u001b[0m\u001b[1;33m.\u001b[0m\u001b[0mreshape\u001b[0m\u001b[1;33m(\u001b[0m\u001b[0mshp\u001b[0m\u001b[1;33m)\u001b[0m\u001b[1;33m\u001b[0m\u001b[1;33m\u001b[0m\u001b[0m\n\u001b[0m\u001b[0;32m   7849\u001b[0m                 \u001b[0mit\u001b[0m\u001b[1;33m.\u001b[0m\u001b[0miternext\u001b[0m\u001b[1;33m(\u001b[0m\u001b[1;33m)\u001b[0m\u001b[1;33m\u001b[0m\u001b[1;33m\u001b[0m\u001b[0m\n\u001b[0;32m   7850\u001b[0m \u001b[1;33m\u001b[0m\u001b[0m\n",
      "\u001b[1;32m~\\Anaconda3\\envs\\my_tensorflow_env\\lib\\site-packages\\scipy\\stats\\_continuous_distns.py\u001b[0m in \u001b[0;36m_rvs_scalar\u001b[1;34m(self, a, b, numsamples, random_state)\u001b[0m\n\u001b[0;32m   7862\u001b[0m         \u001b[1;31m# Calculate some rvs\u001b[0m\u001b[1;33m\u001b[0m\u001b[1;33m\u001b[0m\u001b[1;33m\u001b[0m\u001b[0m\n\u001b[0;32m   7863\u001b[0m         \u001b[0mU\u001b[0m \u001b[1;33m=\u001b[0m \u001b[0mrandom_state\u001b[0m\u001b[1;33m.\u001b[0m\u001b[0muniform\u001b[0m\u001b[1;33m(\u001b[0m\u001b[0mlow\u001b[0m\u001b[1;33m=\u001b[0m\u001b[1;36m0\u001b[0m\u001b[1;33m,\u001b[0m \u001b[0mhigh\u001b[0m\u001b[1;33m=\u001b[0m\u001b[1;36m1\u001b[0m\u001b[1;33m,\u001b[0m \u001b[0msize\u001b[0m\u001b[1;33m=\u001b[0m\u001b[0mN\u001b[0m\u001b[1;33m)\u001b[0m\u001b[1;33m\u001b[0m\u001b[1;33m\u001b[0m\u001b[0m\n\u001b[1;32m-> 7864\u001b[1;33m         \u001b[0mx\u001b[0m \u001b[1;33m=\u001b[0m \u001b[0mself\u001b[0m\u001b[1;33m.\u001b[0m\u001b[0m_ppf\u001b[0m\u001b[1;33m(\u001b[0m\u001b[0mU\u001b[0m\u001b[1;33m,\u001b[0m \u001b[0ma\u001b[0m\u001b[1;33m,\u001b[0m \u001b[0mb\u001b[0m\u001b[1;33m)\u001b[0m\u001b[1;33m\u001b[0m\u001b[1;33m\u001b[0m\u001b[0m\n\u001b[0m\u001b[0;32m   7865\u001b[0m         \u001b[0mrvs\u001b[0m \u001b[1;33m=\u001b[0m \u001b[0mnp\u001b[0m\u001b[1;33m.\u001b[0m\u001b[0mreshape\u001b[0m\u001b[1;33m(\u001b[0m\u001b[0mx\u001b[0m\u001b[1;33m,\u001b[0m \u001b[0msize1d\u001b[0m\u001b[1;33m)\u001b[0m\u001b[1;33m\u001b[0m\u001b[1;33m\u001b[0m\u001b[0m\n\u001b[0;32m   7866\u001b[0m         \u001b[1;32mreturn\u001b[0m \u001b[0mrvs\u001b[0m\u001b[1;33m\u001b[0m\u001b[1;33m\u001b[0m\u001b[0m\n",
      "\u001b[1;32m~\\Anaconda3\\envs\\my_tensorflow_env\\lib\\site-packages\\scipy\\stats\\_continuous_distns.py\u001b[0m in \u001b[0;36m_ppf\u001b[1;34m(self, q, a, b)\u001b[0m\n\u001b[0;32m   7739\u001b[0m         \u001b[0ma\u001b[0m\u001b[1;33m,\u001b[0m \u001b[0mb\u001b[0m \u001b[1;33m=\u001b[0m \u001b[0mnp\u001b[0m\u001b[1;33m.\u001b[0m\u001b[0matleast_1d\u001b[0m\u001b[1;33m(\u001b[0m\u001b[0ma\u001b[0m\u001b[1;33m)\u001b[0m\u001b[1;33m,\u001b[0m \u001b[0mnp\u001b[0m\u001b[1;33m.\u001b[0m\u001b[0matleast_1d\u001b[0m\u001b[1;33m(\u001b[0m\u001b[0mb\u001b[0m\u001b[1;33m)\u001b[0m\u001b[1;33m\u001b[0m\u001b[1;33m\u001b[0m\u001b[0m\n\u001b[0;32m   7740\u001b[0m         \u001b[1;32mif\u001b[0m \u001b[0ma\u001b[0m\u001b[1;33m.\u001b[0m\u001b[0msize\u001b[0m \u001b[1;33m==\u001b[0m \u001b[1;36m1\u001b[0m \u001b[1;32mand\u001b[0m \u001b[0mb\u001b[0m\u001b[1;33m.\u001b[0m\u001b[0msize\u001b[0m \u001b[1;33m==\u001b[0m \u001b[1;36m1\u001b[0m\u001b[1;33m:\u001b[0m\u001b[1;33m\u001b[0m\u001b[1;33m\u001b[0m\u001b[0m\n\u001b[1;32m-> 7741\u001b[1;33m             \u001b[1;32mreturn\u001b[0m \u001b[0m_truncnorm_ppf_scalar\u001b[0m\u001b[1;33m(\u001b[0m\u001b[0mq\u001b[0m\u001b[1;33m,\u001b[0m \u001b[0ma\u001b[0m\u001b[1;33m.\u001b[0m\u001b[0mitem\u001b[0m\u001b[1;33m(\u001b[0m\u001b[1;33m)\u001b[0m\u001b[1;33m,\u001b[0m \u001b[0mb\u001b[0m\u001b[1;33m.\u001b[0m\u001b[0mitem\u001b[0m\u001b[1;33m(\u001b[0m\u001b[1;33m)\u001b[0m\u001b[1;33m)\u001b[0m\u001b[1;33m\u001b[0m\u001b[1;33m\u001b[0m\u001b[0m\n\u001b[0m\u001b[0;32m   7742\u001b[0m \u001b[1;33m\u001b[0m\u001b[0m\n\u001b[0;32m   7743\u001b[0m         \u001b[0mout\u001b[0m \u001b[1;33m=\u001b[0m \u001b[1;32mNone\u001b[0m\u001b[1;33m\u001b[0m\u001b[1;33m\u001b[0m\u001b[0m\n",
      "\u001b[1;32m~\\Anaconda3\\envs\\my_tensorflow_env\\lib\\site-packages\\scipy\\stats\\_continuous_distns.py\u001b[0m in \u001b[0;36m_truncnorm_ppf_scalar\u001b[1;34m(q, a, b)\u001b[0m\n\u001b[0;32m   7587\u001b[0m             \u001b[1;32melse\u001b[0m\u001b[1;33m:\u001b[0m\u001b[1;33m\u001b[0m\u001b[1;33m\u001b[0m\u001b[0m\n\u001b[0;32m   7588\u001b[0m                 \u001b[0mna\u001b[0m\u001b[1;33m,\u001b[0m \u001b[0mnb\u001b[0m \u001b[1;33m=\u001b[0m \u001b[0m_norm_cdf\u001b[0m\u001b[1;33m(\u001b[0m\u001b[0ma\u001b[0m\u001b[1;33m)\u001b[0m\u001b[1;33m,\u001b[0m \u001b[0m_norm_cdf\u001b[0m\u001b[1;33m(\u001b[0m\u001b[0mb\u001b[0m\u001b[1;33m)\u001b[0m\u001b[1;33m\u001b[0m\u001b[1;33m\u001b[0m\u001b[0m\n\u001b[1;32m-> 7589\u001b[1;33m                 \u001b[0mnp\u001b[0m\u001b[1;33m.\u001b[0m\u001b[0mplace\u001b[0m\u001b[1;33m(\u001b[0m\u001b[0mout\u001b[0m\u001b[1;33m,\u001b[0m \u001b[0mcond_inner\u001b[0m\u001b[1;33m,\u001b[0m \u001b[0m_norm_ppf\u001b[0m\u001b[1;33m(\u001b[0m\u001b[0mqinner\u001b[0m \u001b[1;33m*\u001b[0m \u001b[0mnb\u001b[0m \u001b[1;33m+\u001b[0m \u001b[0mna\u001b[0m \u001b[1;33m*\u001b[0m \u001b[1;33m(\u001b[0m\u001b[1;36m1.0\u001b[0m \u001b[1;33m-\u001b[0m \u001b[0mqinner\u001b[0m\u001b[1;33m)\u001b[0m\u001b[1;33m)\u001b[0m\u001b[1;33m)\u001b[0m\u001b[1;33m\u001b[0m\u001b[1;33m\u001b[0m\u001b[0m\n\u001b[0m\u001b[0;32m   7590\u001b[0m         \u001b[1;32melif\u001b[0m \u001b[0mnp\u001b[0m\u001b[1;33m.\u001b[0m\u001b[0misinf\u001b[0m\u001b[1;33m(\u001b[0m\u001b[0mb\u001b[0m\u001b[1;33m)\u001b[0m\u001b[1;33m:\u001b[0m\u001b[1;33m\u001b[0m\u001b[1;33m\u001b[0m\u001b[0m\n\u001b[0;32m   7591\u001b[0m             np.place(out, cond_inner,\n",
      "\u001b[1;32m<__array_function__ internals>\u001b[0m in \u001b[0;36mplace\u001b[1;34m(*args, **kwargs)\u001b[0m\n",
      "\u001b[1;32m~\\Anaconda3\\envs\\my_tensorflow_env\\lib\\site-packages\\numpy\\lib\\function_base.py\u001b[0m in \u001b[0;36mplace\u001b[1;34m(arr, mask, vals)\u001b[0m\n\u001b[0;32m   1746\u001b[0m                         \"not {name}\".format(name=type(arr).__name__))\n\u001b[0;32m   1747\u001b[0m \u001b[1;33m\u001b[0m\u001b[0m\n\u001b[1;32m-> 1748\u001b[1;33m     \u001b[1;32mreturn\u001b[0m \u001b[0m_insert\u001b[0m\u001b[1;33m(\u001b[0m\u001b[0marr\u001b[0m\u001b[1;33m,\u001b[0m \u001b[0mmask\u001b[0m\u001b[1;33m,\u001b[0m \u001b[0mvals\u001b[0m\u001b[1;33m)\u001b[0m\u001b[1;33m\u001b[0m\u001b[1;33m\u001b[0m\u001b[0m\n\u001b[0m\u001b[0;32m   1749\u001b[0m \u001b[1;33m\u001b[0m\u001b[0m\n\u001b[0;32m   1750\u001b[0m \u001b[1;33m\u001b[0m\u001b[0m\n",
      "\u001b[1;31mKeyboardInterrupt\u001b[0m: "
     ]
    }
   ],
   "source": [
    "interpretability_list = []\n",
    "count = 0 \n",
    "for customer in range(len(X_test)):\n",
    "    explainer_customer = explainer.explain_instance(X_test.values[customer], modelXGB.predict_proba)\n",
    "    interpretability_list.append(explainer_customer)\n",
    "    count+=1\n",
    "    if count % 100 == 0 :\n",
    "        print(count)\n",
    "joblib.dump(interpretability_list, \"interpretability_list.joblib\")"
   ]
  },
  {
   "cell_type": "code",
   "execution_count": 19,
   "id": "f0634f59",
   "metadata": {
    "ExecuteTime": {
     "end_time": "2022-06-19T18:18:38.099618Z",
     "start_time": "2022-06-19T18:18:38.086661Z"
    }
   },
   "outputs": [
    {
     "data": {
      "text/plain": [
       "3488"
      ]
     },
     "execution_count": 19,
     "metadata": {},
     "output_type": "execute_result"
    }
   ],
   "source": [
    "len(interpretability_list)"
   ]
  },
  {
   "cell_type": "code",
   "execution_count": 20,
   "id": "648d5a79",
   "metadata": {
    "ExecuteTime": {
     "end_time": "2022-06-19T18:18:48.944303Z",
     "start_time": "2022-06-19T18:18:43.936143Z"
    }
   },
   "outputs": [
    {
     "data": {
      "text/plain": [
       "['interpretability_list3488.joblib']"
      ]
     },
     "execution_count": 20,
     "metadata": {},
     "output_type": "execute_result"
    }
   ],
   "source": [
    "joblib.dump(interpretability_list, \"interpretability_list3488.joblib\")"
   ]
  },
  {
   "cell_type": "code",
   "execution_count": null,
   "id": "97bffc47",
   "metadata": {
    "ExecuteTime": {
     "end_time": "2022-06-18T19:20:51.721602Z",
     "start_time": "2022-06-17T16:45:46.316Z"
    }
   },
   "outputs": [],
   "source": [
    "interpretability_list[2].show_in_notebook(show_table=True)"
   ]
  },
  {
   "cell_type": "code",
   "execution_count": null,
   "id": "ee358d2d",
   "metadata": {
    "ExecuteTime": {
     "end_time": "2022-06-18T19:20:51.722594Z",
     "start_time": "2022-06-17T16:45:46.317Z"
    }
   },
   "outputs": [],
   "source": [
    "interpretability_list[2].as_pyplot_figure()"
   ]
  }
 ],
 "metadata": {
  "hide_input": false,
  "kernelspec": {
   "display_name": "Python 3",
   "language": "python",
   "name": "python3"
  },
  "language_info": {
   "codemirror_mode": {
    "name": "ipython",
    "version": 3
   },
   "file_extension": ".py",
   "mimetype": "text/x-python",
   "name": "python",
   "nbconvert_exporter": "python",
   "pygments_lexer": "ipython3",
   "version": "3.8.8"
  },
  "toc": {
   "base_numbering": 1,
   "nav_menu": {
    "height": "348.991px",
    "width": "260.994px"
   },
   "number_sections": true,
   "sideBar": true,
   "skip_h1_title": false,
   "title_cell": "Table of Contents",
   "title_sidebar": "Contents",
   "toc_cell": false,
   "toc_position": {
    "height": "calc(100% - 180px)",
    "left": "10px",
    "top": "150px",
    "width": "331.913px"
   },
   "toc_section_display": true,
   "toc_window_display": true
  },
  "varInspector": {
   "cols": {
    "lenName": 16,
    "lenType": 16,
    "lenVar": 40
   },
   "kernels_config": {
    "python": {
     "delete_cmd_postfix": "",
     "delete_cmd_prefix": "del ",
     "library": "var_list.py",
     "varRefreshCmd": "print(var_dic_list())"
    },
    "r": {
     "delete_cmd_postfix": ") ",
     "delete_cmd_prefix": "rm(",
     "library": "var_list.r",
     "varRefreshCmd": "cat(var_dic_list()) "
    }
   },
   "oldHeight": 688.8353639999999,
   "position": {
    "height": "40px",
    "left": "1362.44px",
    "right": "20px",
    "top": "120px",
    "width": "362.997px"
   },
   "types_to_exclude": [
    "module",
    "function",
    "builtin_function_or_method",
    "instance",
    "_Feature"
   ],
   "varInspector_section_display": "none",
   "window_display": false
  }
 },
 "nbformat": 4,
 "nbformat_minor": 5
}
